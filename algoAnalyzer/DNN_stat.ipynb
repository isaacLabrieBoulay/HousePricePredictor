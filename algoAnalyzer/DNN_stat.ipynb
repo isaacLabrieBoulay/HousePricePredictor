{
 "cells": [
  {
   "cell_type": "code",
   "execution_count": 123,
   "id": "fb995ae7",
   "metadata": {},
   "outputs": [],
   "source": [
    "import matplotlib.pyplot as plt\n",
    "import pandas as pd\n",
    "import numpy as np\n",
    "from sklearn import preprocessing\n",
    "from sklearn.model_selection import train_test_split\n",
    "from sklearn.metrics import r2_score\n",
    "from sklearn.preprocessing import MinMaxScaler\n",
    "from tensorflow.keras.models import Sequential\n",
    "from tensorflow.keras.layers import Dense\n",
    "from tensorflow.keras.optimizers import SGD, Adam\n",
    "from tensorflow.keras.callbacks import EarlyStopping\n",
    "from tensorflow.keras.layers import Dropout"
   ]
  },
  {
   "cell_type": "code",
   "execution_count": 124,
   "id": "0384bd74",
   "metadata": {},
   "outputs": [],
   "source": [
    "def r_square(y_true, y_pred):\n",
    "    from keras import backend as K\n",
    "    SS_res =  K.sum(K.square(y_true - y_pred)) \n",
    "    SS_tot = K.sum(K.square(y_true - K.mean(y_true))) \n",
    "    return (1 - SS_res/(SS_tot + K.epsilon()))"
   ]
  },
  {
   "cell_type": "markdown",
   "id": "15acf9b2",
   "metadata": {},
   "source": [
    "#### Load datasets"
   ]
  },
  {
   "cell_type": "code",
   "execution_count": 125,
   "id": "847489cc",
   "metadata": {},
   "outputs": [
    {
     "data": {
      "text/html": [
       "<div>\n",
       "<style scoped>\n",
       "    .dataframe tbody tr th:only-of-type {\n",
       "        vertical-align: middle;\n",
       "    }\n",
       "\n",
       "    .dataframe tbody tr th {\n",
       "        vertical-align: top;\n",
       "    }\n",
       "\n",
       "    .dataframe thead th {\n",
       "        text-align: right;\n",
       "    }\n",
       "</style>\n",
       "<table border=\"1\" class=\"dataframe\">\n",
       "  <thead>\n",
       "    <tr style=\"text-align: right;\">\n",
       "      <th></th>\n",
       "      <th>latitude</th>\n",
       "      <th>longitude</th>\n",
       "      <th>price</th>\n",
       "      <th>beds</th>\n",
       "      <th>bath</th>\n",
       "      <th>square</th>\n",
       "      <th>year</th>\n",
       "      <th>Residential</th>\n",
       "      <th>Condominium</th>\n",
       "    </tr>\n",
       "  </thead>\n",
       "  <tbody>\n",
       "    <tr>\n",
       "      <th>0</th>\n",
       "      <td>50.476003</td>\n",
       "      <td>-104.646174</td>\n",
       "      <td>299900</td>\n",
       "      <td>3.0</td>\n",
       "      <td>1.0</td>\n",
       "      <td>948</td>\n",
       "      <td>1961.0</td>\n",
       "      <td>1.0</td>\n",
       "      <td>0.0</td>\n",
       "    </tr>\n",
       "    <tr>\n",
       "      <th>1</th>\n",
       "      <td>50.423583</td>\n",
       "      <td>-104.512040</td>\n",
       "      <td>359900</td>\n",
       "      <td>3.0</td>\n",
       "      <td>3.0</td>\n",
       "      <td>1160</td>\n",
       "      <td>2019.0</td>\n",
       "      <td>1.0</td>\n",
       "      <td>0.0</td>\n",
       "    </tr>\n",
       "    <tr>\n",
       "      <th>2</th>\n",
       "      <td>50.463622</td>\n",
       "      <td>-104.652170</td>\n",
       "      <td>189900</td>\n",
       "      <td>2.0</td>\n",
       "      <td>1.0</td>\n",
       "      <td>748</td>\n",
       "      <td>1953.0</td>\n",
       "      <td>1.0</td>\n",
       "      <td>0.0</td>\n",
       "    </tr>\n",
       "    <tr>\n",
       "      <th>3</th>\n",
       "      <td>50.403865</td>\n",
       "      <td>-104.609861</td>\n",
       "      <td>439900</td>\n",
       "      <td>3.0</td>\n",
       "      <td>3.0</td>\n",
       "      <td>1174</td>\n",
       "      <td>1959.0</td>\n",
       "      <td>1.0</td>\n",
       "      <td>0.0</td>\n",
       "    </tr>\n",
       "    <tr>\n",
       "      <th>4</th>\n",
       "      <td>50.446873</td>\n",
       "      <td>-104.608262</td>\n",
       "      <td>289900</td>\n",
       "      <td>2.0</td>\n",
       "      <td>2.0</td>\n",
       "      <td>1098</td>\n",
       "      <td>2009.0</td>\n",
       "      <td>0.0</td>\n",
       "      <td>1.0</td>\n",
       "    </tr>\n",
       "    <tr>\n",
       "      <th>...</th>\n",
       "      <td>...</td>\n",
       "      <td>...</td>\n",
       "      <td>...</td>\n",
       "      <td>...</td>\n",
       "      <td>...</td>\n",
       "      <td>...</td>\n",
       "      <td>...</td>\n",
       "      <td>...</td>\n",
       "      <td>...</td>\n",
       "    </tr>\n",
       "    <tr>\n",
       "      <th>575</th>\n",
       "      <td>50.401995</td>\n",
       "      <td>-104.615987</td>\n",
       "      <td>359900</td>\n",
       "      <td>3.0</td>\n",
       "      <td>2.0</td>\n",
       "      <td>1224</td>\n",
       "      <td>1959.0</td>\n",
       "      <td>1.0</td>\n",
       "      <td>0.0</td>\n",
       "    </tr>\n",
       "    <tr>\n",
       "      <th>576</th>\n",
       "      <td>50.461896</td>\n",
       "      <td>-104.633760</td>\n",
       "      <td>89900</td>\n",
       "      <td>2.0</td>\n",
       "      <td>1.0</td>\n",
       "      <td>900</td>\n",
       "      <td>1946.0</td>\n",
       "      <td>1.0</td>\n",
       "      <td>0.0</td>\n",
       "    </tr>\n",
       "    <tr>\n",
       "      <th>577</th>\n",
       "      <td>50.500928</td>\n",
       "      <td>-104.643219</td>\n",
       "      <td>419900</td>\n",
       "      <td>3.0</td>\n",
       "      <td>3.0</td>\n",
       "      <td>1428</td>\n",
       "      <td>2008.0</td>\n",
       "      <td>1.0</td>\n",
       "      <td>0.0</td>\n",
       "    </tr>\n",
       "    <tr>\n",
       "      <th>578</th>\n",
       "      <td>50.489515</td>\n",
       "      <td>-104.608653</td>\n",
       "      <td>299900</td>\n",
       "      <td>4.0</td>\n",
       "      <td>2.0</td>\n",
       "      <td>980</td>\n",
       "      <td>1970.0</td>\n",
       "      <td>1.0</td>\n",
       "      <td>0.0</td>\n",
       "    </tr>\n",
       "    <tr>\n",
       "      <th>579</th>\n",
       "      <td>50.416342</td>\n",
       "      <td>-104.596812</td>\n",
       "      <td>319900</td>\n",
       "      <td>3.0</td>\n",
       "      <td>2.0</td>\n",
       "      <td>1100</td>\n",
       "      <td>1958.0</td>\n",
       "      <td>1.0</td>\n",
       "      <td>0.0</td>\n",
       "    </tr>\n",
       "  </tbody>\n",
       "</table>\n",
       "<p>580 rows × 9 columns</p>\n",
       "</div>"
      ],
      "text/plain": [
       "      latitude   longitude   price  beds  bath  square    year  Residential  \\\n",
       "0    50.476003 -104.646174  299900   3.0   1.0     948  1961.0          1.0   \n",
       "1    50.423583 -104.512040  359900   3.0   3.0    1160  2019.0          1.0   \n",
       "2    50.463622 -104.652170  189900   2.0   1.0     748  1953.0          1.0   \n",
       "3    50.403865 -104.609861  439900   3.0   3.0    1174  1959.0          1.0   \n",
       "4    50.446873 -104.608262  289900   2.0   2.0    1098  2009.0          0.0   \n",
       "..         ...         ...     ...   ...   ...     ...     ...          ...   \n",
       "575  50.401995 -104.615987  359900   3.0   2.0    1224  1959.0          1.0   \n",
       "576  50.461896 -104.633760   89900   2.0   1.0     900  1946.0          1.0   \n",
       "577  50.500928 -104.643219  419900   3.0   3.0    1428  2008.0          1.0   \n",
       "578  50.489515 -104.608653  299900   4.0   2.0     980  1970.0          1.0   \n",
       "579  50.416342 -104.596812  319900   3.0   2.0    1100  1958.0          1.0   \n",
       "\n",
       "     Condominium  \n",
       "0            0.0  \n",
       "1            0.0  \n",
       "2            0.0  \n",
       "3            0.0  \n",
       "4            1.0  \n",
       "..           ...  \n",
       "575          0.0  \n",
       "576          0.0  \n",
       "577          0.0  \n",
       "578          0.0  \n",
       "579          0.0  \n",
       "\n",
       "[580 rows x 9 columns]"
      ]
     },
     "execution_count": 125,
     "metadata": {},
     "output_type": "execute_result"
    }
   ],
   "source": [
    "training_set = pd.read_csv(\"training_set.csv\", index_col=0)\n",
    "training_set"
   ]
  },
  {
   "cell_type": "markdown",
   "id": "53a5db7e",
   "metadata": {},
   "source": [
    "#### Preprocess the data"
   ]
  },
  {
   "cell_type": "code",
   "execution_count": 126,
   "id": "6c34a99b",
   "metadata": {},
   "outputs": [],
   "source": [
    "# Turn into an array\n",
    "train_set = training_set.to_numpy()"
   ]
  },
  {
   "cell_type": "code",
   "execution_count": 127,
   "id": "9ca19e66",
   "metadata": {},
   "outputs": [
    {
     "data": {
      "text/plain": [
       "array([[0.71404005, 0.28105625, 0.17778481, ..., 0.46956522, 1.        ,\n",
       "        0.        ],\n",
       "       [0.23594896, 0.95879007, 0.21575949, ..., 0.97391304, 1.        ,\n",
       "        0.        ],\n",
       "       [0.6011187 , 0.25075929, 0.10816456, ..., 0.4       , 1.        ,\n",
       "        0.        ],\n",
       "       ...,\n",
       "       [0.94136526, 0.29598434, 0.25373418, ..., 0.87826087, 1.        ,\n",
       "        0.        ],\n",
       "       [0.83727606, 0.47063582, 0.17778481, ..., 0.54782609, 1.        ,\n",
       "        0.        ],\n",
       "       [0.16990986, 0.53046519, 0.19044304, ..., 0.44347826, 1.        ,\n",
       "        0.        ]])"
      ]
     },
     "execution_count": 127,
     "metadata": {},
     "output_type": "execute_result"
    }
   ],
   "source": [
    "# scale\n",
    "scaler = MinMaxScaler()\n",
    "train_set = scaler.fit_transform(train_set)\n",
    "train_set"
   ]
  },
  {
   "cell_type": "code",
   "execution_count": 128,
   "id": "ece63b24",
   "metadata": {},
   "outputs": [
    {
     "name": "stdout",
     "output_type": "stream",
     "text": [
      "(580,)\n",
      "(580, 8)\n"
     ]
    }
   ],
   "source": [
    "# Create X & y\n",
    "y = train_set[:,2]\n",
    "print(y.shape)\n",
    "X = np.delete(train_set, 2, axis=1)\n",
    "#X = train_set[:,5]\n",
    "print(X.shape)"
   ]
  },
  {
   "cell_type": "code",
   "execution_count": 129,
   "id": "e5dd67ca",
   "metadata": {},
   "outputs": [
    {
     "name": "stdout",
     "output_type": "stream",
     "text": [
      "[[0.71404005 0.28105625 0.4        ... 0.46956522 1.         0.        ]\n",
      " [0.23594896 0.95879007 0.4        ... 0.97391304 1.         0.        ]\n",
      " [0.6011187  0.25075929 0.2        ... 0.4        1.         0.        ]\n",
      " ...\n",
      " [0.94136526 0.29598434 0.4        ... 0.87826087 1.         0.        ]\n",
      " [0.83727606 0.47063582 0.6        ... 0.54782609 1.         0.        ]\n",
      " [0.16990986 0.53046519 0.4        ... 0.44347826 1.         0.        ]]\n"
     ]
    }
   ],
   "source": [
    "print(X)"
   ]
  },
  {
   "cell_type": "code",
   "execution_count": 130,
   "id": "ddf51916",
   "metadata": {},
   "outputs": [
    {
     "name": "stdout",
     "output_type": "stream",
     "text": [
      "(464, 8)\n"
     ]
    }
   ],
   "source": [
    "# make test split\n",
    "X_train, X_test, y_train, y_test = train_test_split(X, y, test_size=0.2)\n",
    "print(X_train.shape)"
   ]
  },
  {
   "cell_type": "code",
   "execution_count": 152,
   "id": "e0bf182f",
   "metadata": {},
   "outputs": [],
   "source": [
    "def get_model(): \n",
    "    # Create Neural Net\n",
    "    model = Sequential()\n",
    "    # input is two features and we have 4 nodes in the first layer, using the tanh activation\n",
    "    model.add(Dense(64, input_shape=(8,), activation='relu'))\n",
    "    model.add(Dense(128, activation='relu'))\n",
    "    model.add(Dropout(0.1))\n",
    "    model.add(Dense(256, activation='relu'))\n",
    "    model.add(Dropout(0.1))\n",
    "    model.add(Dense(512, activation='relu'))\n",
    "    model.add(Dropout(0.1))\n",
    "    model.add(Dense(512, activation='relu'))\n",
    "    model.add(Dropout(0.1))\n",
    "    model.add(Dense(512, activation='relu'))\n",
    "    model.add(Dense(1))\n",
    "    \n",
    "    return model"
   ]
  },
  {
   "cell_type": "markdown",
   "id": "031f0d77",
   "metadata": {},
   "source": [
    "#### train model "
   ]
  },
  {
   "cell_type": "code",
   "execution_count": 159,
   "id": "bd1ff514",
   "metadata": {},
   "outputs": [
    {
     "name": "stdout",
     "output_type": "stream",
     "text": [
      "Epoch 1/200\n",
      "24/24 [==============================] - 1s 14ms/step - loss: 0.0116 - mse: 0.0116 - r_square: 0.0486 - val_loss: 0.0086 - val_mse: 0.0086 - val_r_square: 0.5283\n",
      "Epoch 2/200\n",
      "24/24 [==============================] - 0s 7ms/step - loss: 0.0063 - mse: 0.0063 - r_square: -0.0763 - val_loss: 0.0125 - val_mse: 0.0125 - val_r_square: 0.0789\n",
      "Epoch 3/200\n",
      "24/24 [==============================] - 0s 7ms/step - loss: 0.0059 - mse: 0.0059 - r_square: 0.4806 - val_loss: 0.0095 - val_mse: 0.0095 - val_r_square: 0.4311\n",
      "Epoch 4/200\n",
      "24/24 [==============================] - 0s 7ms/step - loss: 0.0050 - mse: 0.0050 - r_square: 0.5264 - val_loss: 0.0088 - val_mse: 0.0088 - val_r_square: 0.3797\n",
      "Epoch 5/200\n",
      "24/24 [==============================] - 0s 8ms/step - loss: 0.0053 - mse: 0.0053 - r_square: 0.5651 - val_loss: 0.0065 - val_mse: 0.0065 - val_r_square: 0.6230\n",
      "Epoch 6/200\n",
      "24/24 [==============================] - 0s 7ms/step - loss: 0.0049 - mse: 0.0049 - r_square: 0.5434 - val_loss: 0.0077 - val_mse: 0.0077 - val_r_square: 0.5161\n",
      "Epoch 7/200\n",
      "24/24 [==============================] - 0s 7ms/step - loss: 0.0054 - mse: 0.0054 - r_square: 0.5334 - val_loss: 0.0110 - val_mse: 0.0110 - val_r_square: 0.2469\n",
      "Epoch 8/200\n",
      "24/24 [==============================] - 0s 7ms/step - loss: 0.0045 - mse: 0.0045 - r_square: 0.6051 - val_loss: 0.0060 - val_mse: 0.0060 - val_r_square: 0.6576\n",
      "Epoch 9/200\n",
      "24/24 [==============================] - 0s 7ms/step - loss: 0.0041 - mse: 0.0041 - r_square: 0.6002 - val_loss: 0.0049 - val_mse: 0.0049 - val_r_square: 0.6543\n",
      "Epoch 10/200\n",
      "24/24 [==============================] - 0s 7ms/step - loss: 0.0031 - mse: 0.0031 - r_square: 0.6385 - val_loss: 0.0053 - val_mse: 0.0053 - val_r_square: 0.6527\n",
      "Epoch 11/200\n",
      "24/24 [==============================] - 0s 7ms/step - loss: 0.0038 - mse: 0.0038 - r_square: 0.6190 - val_loss: 0.0088 - val_mse: 0.0088 - val_r_square: 0.4670\n",
      "Epoch 12/200\n",
      "24/24 [==============================] - 0s 7ms/step - loss: 0.0053 - mse: 0.0053 - r_square: 0.5164 - val_loss: 0.0105 - val_mse: 0.0105 - val_r_square: 0.3444\n",
      "Epoch 13/200\n",
      "24/24 [==============================] - 0s 7ms/step - loss: 0.0054 - mse: 0.0054 - r_square: 0.5953 - val_loss: 0.0051 - val_mse: 0.0051 - val_r_square: 0.6713\n",
      "Epoch 14/200\n",
      "24/24 [==============================] - 0s 8ms/step - loss: 0.0033 - mse: 0.0033 - r_square: 0.5852 - val_loss: 0.0045 - val_mse: 0.0045 - val_r_square: 0.7053\n",
      "Epoch 15/200\n",
      "24/24 [==============================] - 0s 7ms/step - loss: 0.0034 - mse: 0.0034 - r_square: 0.6760 - val_loss: 0.0057 - val_mse: 0.0057 - val_r_square: 0.6026\n",
      "Epoch 16/200\n",
      "24/24 [==============================] - 0s 8ms/step - loss: 0.0042 - mse: 0.0042 - r_square: 0.5385 - val_loss: 0.0064 - val_mse: 0.0064 - val_r_square: 0.6531\n",
      "Epoch 17/200\n",
      "24/24 [==============================] - 0s 9ms/step - loss: 0.0043 - mse: 0.0043 - r_square: 0.2971 - val_loss: 0.0089 - val_mse: 0.0089 - val_r_square: 0.3631\n",
      "Epoch 18/200\n",
      "24/24 [==============================] - 0s 9ms/step - loss: 0.0033 - mse: 0.0033 - r_square: 0.3774 - val_loss: 0.0037 - val_mse: 0.0037 - val_r_square: 0.6818\n",
      "Epoch 19/200\n",
      "24/24 [==============================] - 0s 8ms/step - loss: 0.0030 - mse: 0.0030 - r_square: 0.7191 - val_loss: 0.0035 - val_mse: 0.0035 - val_r_square: 0.7041\n",
      "Epoch 20/200\n",
      "24/24 [==============================] - 0s 8ms/step - loss: 0.0024 - mse: 0.0024 - r_square: 0.7713 - val_loss: 0.0034 - val_mse: 0.0034 - val_r_square: 0.7368\n",
      "Epoch 21/200\n",
      "24/24 [==============================] - 0s 8ms/step - loss: 0.0043 - mse: 0.0043 - r_square: 0.6527 - val_loss: 0.0048 - val_mse: 0.0048 - val_r_square: 0.5289\n",
      "Epoch 22/200\n",
      "24/24 [==============================] - 0s 8ms/step - loss: 0.0030 - mse: 0.0030 - r_square: 0.7436 - val_loss: 0.0043 - val_mse: 0.0043 - val_r_square: 0.7140\n",
      "Epoch 23/200\n",
      "24/24 [==============================] - 0s 8ms/step - loss: 0.0032 - mse: 0.0032 - r_square: 0.7496 - val_loss: 0.0044 - val_mse: 0.0044 - val_r_square: 0.6746\n",
      "Epoch 24/200\n",
      "24/24 [==============================] - 0s 8ms/step - loss: 0.0026 - mse: 0.0026 - r_square: 0.6699 - val_loss: 0.0049 - val_mse: 0.0049 - val_r_square: 0.6449\n",
      "Epoch 25/200\n",
      "24/24 [==============================] - 0s 7ms/step - loss: 0.0041 - mse: 0.0041 - r_square: 0.5679 - val_loss: 0.0084 - val_mse: 0.0084 - val_r_square: 0.5149\n",
      "Epoch 26/200\n",
      "24/24 [==============================] - 0s 7ms/step - loss: 0.0040 - mse: 0.0040 - r_square: 0.6409 - val_loss: 0.0050 - val_mse: 0.0050 - val_r_square: 0.6020\n",
      "Epoch 27/200\n",
      "24/24 [==============================] - 0s 7ms/step - loss: 0.0025 - mse: 0.0025 - r_square: 0.7631 - val_loss: 0.0055 - val_mse: 0.0055 - val_r_square: 0.6709\n",
      "Epoch 28/200\n",
      "24/24 [==============================] - 0s 7ms/step - loss: 0.0024 - mse: 0.0024 - r_square: 0.7863 - val_loss: 0.0053 - val_mse: 0.0053 - val_r_square: 0.6501\n",
      "Epoch 29/200\n",
      "24/24 [==============================] - 0s 7ms/step - loss: 0.0025 - mse: 0.0025 - r_square: -0.1243 - val_loss: 0.0040 - val_mse: 0.0040 - val_r_square: 0.6070\n",
      "Epoch 30/200\n",
      "24/24 [==============================] - 0s 8ms/step - loss: 0.0033 - mse: 0.0033 - r_square: 0.7108 - val_loss: 0.0048 - val_mse: 0.0048 - val_r_square: 0.4188\n",
      "Epoch 31/200\n",
      "24/24 [==============================] - 0s 7ms/step - loss: 0.0037 - mse: 0.0037 - r_square: 0.6485 - val_loss: 0.0024 - val_mse: 0.0024 - val_r_square: 0.7128\n",
      "Epoch 32/200\n",
      "24/24 [==============================] - 0s 7ms/step - loss: 0.0080 - mse: 0.0080 - r_square: 0.3820 - val_loss: 0.0072 - val_mse: 0.0072 - val_r_square: 0.5965\n",
      "Epoch 33/200\n",
      "24/24 [==============================] - 0s 7ms/step - loss: 0.0045 - mse: 0.0045 - r_square: 0.6556 - val_loss: 0.0073 - val_mse: 0.0073 - val_r_square: 0.5883\n",
      "Epoch 34/200\n",
      "24/24 [==============================] - 0s 7ms/step - loss: 0.0037 - mse: 0.0037 - r_square: 0.7162 - val_loss: 0.0063 - val_mse: 0.0063 - val_r_square: 0.6244\n",
      "Epoch 35/200\n",
      "24/24 [==============================] - 0s 7ms/step - loss: 0.0036 - mse: 0.0036 - r_square: 0.7257 - val_loss: 0.0060 - val_mse: 0.0060 - val_r_square: 0.5110\n",
      "Epoch 36/200\n",
      "24/24 [==============================] - 0s 9ms/step - loss: 0.0036 - mse: 0.0036 - r_square: 0.6856 - val_loss: 0.0041 - val_mse: 0.0041 - val_r_square: 0.6739\n",
      "Epoch 37/200\n",
      "24/24 [==============================] - 0s 9ms/step - loss: 0.0028 - mse: 0.0028 - r_square: 0.7075 - val_loss: 0.0049 - val_mse: 0.0049 - val_r_square: 0.6310\n",
      "Epoch 38/200\n",
      "24/24 [==============================] - 0s 7ms/step - loss: 0.0028 - mse: 0.0028 - r_square: 0.5976 - val_loss: 0.0047 - val_mse: 0.0047 - val_r_square: 0.6223\n",
      "Epoch 39/200\n",
      "24/24 [==============================] - 0s 8ms/step - loss: 0.0029 - mse: 0.0029 - r_square: 0.6937 - val_loss: 0.0054 - val_mse: 0.0054 - val_r_square: 0.6538\n",
      "Epoch 40/200\n",
      "24/24 [==============================] - 0s 8ms/step - loss: 0.0026 - mse: 0.0026 - r_square: 0.7639 - val_loss: 0.0041 - val_mse: 0.0041 - val_r_square: 0.7328\n",
      "Epoch 41/200\n",
      "24/24 [==============================] - 0s 8ms/step - loss: 0.0027 - mse: 0.0027 - r_square: 0.7680 - val_loss: 0.0026 - val_mse: 0.0026 - val_r_square: 0.7445\n",
      "Epoch 42/200\n",
      "24/24 [==============================] - 0s 8ms/step - loss: 0.0022 - mse: 0.0022 - r_square: 0.8056 - val_loss: 0.0028 - val_mse: 0.0028 - val_r_square: 0.6947\n",
      "Epoch 43/200\n",
      "24/24 [==============================] - 0s 8ms/step - loss: 0.0020 - mse: 0.0020 - r_square: 0.7046 - val_loss: 0.0032 - val_mse: 0.0032 - val_r_square: 0.7312\n",
      "Epoch 44/200\n",
      "24/24 [==============================] - 0s 7ms/step - loss: 0.0017 - mse: 0.0017 - r_square: 0.7881 - val_loss: 0.0026 - val_mse: 0.0026 - val_r_square: 0.7398\n",
      "Epoch 45/200\n",
      "24/24 [==============================] - 0s 7ms/step - loss: 0.0021 - mse: 0.0021 - r_square: 0.7473 - val_loss: 0.0034 - val_mse: 0.0034 - val_r_square: 0.6875\n",
      "Epoch 46/200\n",
      "24/24 [==============================] - 0s 7ms/step - loss: 0.0016 - mse: 0.0016 - r_square: 0.8464 - val_loss: 0.0028 - val_mse: 0.0028 - val_r_square: 0.7281\n",
      "Epoch 47/200\n",
      "24/24 [==============================] - 0s 7ms/step - loss: 0.0016 - mse: 0.0016 - r_square: 0.7956 - val_loss: 0.0029 - val_mse: 0.0029 - val_r_square: 0.7146\n",
      "Epoch 48/200\n"
     ]
    },
    {
     "name": "stdout",
     "output_type": "stream",
     "text": [
      "24/24 [==============================] - 0s 8ms/step - loss: 0.0023 - mse: 0.0023 - r_square: 0.7938 - val_loss: 0.0043 - val_mse: 0.0043 - val_r_square: 0.6783\n",
      "Epoch 49/200\n",
      "24/24 [==============================] - 0s 7ms/step - loss: 0.0021 - mse: 0.0021 - r_square: 0.7945 - val_loss: 0.0063 - val_mse: 0.0063 - val_r_square: 0.6317\n",
      "Epoch 50/200\n",
      "24/24 [==============================] - 0s 7ms/step - loss: 0.0024 - mse: 0.0024 - r_square: 0.8036 - val_loss: 0.0035 - val_mse: 0.0035 - val_r_square: 0.6847\n",
      "Epoch 51/200\n",
      "24/24 [==============================] - 0s 7ms/step - loss: 0.0018 - mse: 0.0018 - r_square: 0.7679 - val_loss: 0.0031 - val_mse: 0.0031 - val_r_square: 0.6505\n",
      "Epoch 52/200\n",
      "24/24 [==============================] - 0s 7ms/step - loss: 0.0022 - mse: 0.0022 - r_square: 0.8069 - val_loss: 0.0030 - val_mse: 0.0030 - val_r_square: 0.7318\n",
      "Epoch 53/200\n",
      "24/24 [==============================] - 0s 7ms/step - loss: 0.0014 - mse: 0.0014 - r_square: 0.8623 - val_loss: 0.0024 - val_mse: 0.0024 - val_r_square: 0.7216\n",
      "Epoch 54/200\n",
      "24/24 [==============================] - 0s 7ms/step - loss: 0.0032 - mse: 0.0032 - r_square: 0.7392 - val_loss: 0.0048 - val_mse: 0.0048 - val_r_square: 0.6126\n",
      "Epoch 55/200\n",
      "24/24 [==============================] - 0s 8ms/step - loss: 0.0020 - mse: 0.0020 - r_square: 0.8144 - val_loss: 0.0033 - val_mse: 0.0033 - val_r_square: 0.6853\n",
      "Epoch 56/200\n",
      "24/24 [==============================] - 0s 7ms/step - loss: 0.0023 - mse: 0.0023 - r_square: 0.8252 - val_loss: 0.0049 - val_mse: 0.0049 - val_r_square: 0.6530\n",
      "Epoch 57/200\n",
      "24/24 [==============================] - 0s 7ms/step - loss: 0.0020 - mse: 0.0020 - r_square: 0.8048 - val_loss: 0.0034 - val_mse: 0.0034 - val_r_square: 0.7195\n",
      "Epoch 58/200\n",
      "24/24 [==============================] - 0s 7ms/step - loss: 0.0018 - mse: 0.0018 - r_square: 0.7754 - val_loss: 0.0030 - val_mse: 0.0030 - val_r_square: 0.7290\n",
      "Epoch 59/200\n",
      "24/24 [==============================] - 0s 7ms/step - loss: 0.0019 - mse: 0.0019 - r_square: 0.8117 - val_loss: 0.0039 - val_mse: 0.0039 - val_r_square: 0.6951\n",
      "Epoch 60/200\n",
      "24/24 [==============================] - 0s 7ms/step - loss: 0.0022 - mse: 0.0022 - r_square: 0.7725 - val_loss: 0.0038 - val_mse: 0.0038 - val_r_square: 0.7195\n",
      "Epoch 61/200\n",
      "24/24 [==============================] - 0s 8ms/step - loss: 0.0015 - mse: 0.0015 - r_square: 0.8599 - val_loss: 0.0027 - val_mse: 0.0027 - val_r_square: 0.7256\n",
      "Epoch 62/200\n",
      "24/24 [==============================] - 0s 7ms/step - loss: 0.0014 - mse: 0.0014 - r_square: 0.8354 - val_loss: 0.0022 - val_mse: 0.0022 - val_r_square: 0.7627\n",
      "Epoch 63/200\n",
      "24/24 [==============================] - 0s 7ms/step - loss: 0.0015 - mse: 0.0015 - r_square: 0.8287 - val_loss: 0.0025 - val_mse: 0.0025 - val_r_square: 0.7309\n",
      "Epoch 64/200\n",
      "24/24 [==============================] - 0s 7ms/step - loss: 0.0012 - mse: 0.0012 - r_square: 0.7427 - val_loss: 0.0027 - val_mse: 0.0027 - val_r_square: 0.7552\n",
      "Epoch 65/200\n",
      "24/24 [==============================] - 0s 7ms/step - loss: 0.0012 - mse: 0.0012 - r_square: 0.8637 - val_loss: 0.0031 - val_mse: 0.0031 - val_r_square: 0.7144\n",
      "Epoch 66/200\n",
      "24/24 [==============================] - 0s 7ms/step - loss: 0.0015 - mse: 0.0015 - r_square: 0.8595 - val_loss: 0.0025 - val_mse: 0.0025 - val_r_square: 0.7298\n",
      "Epoch 67/200\n",
      "24/24 [==============================] - 0s 7ms/step - loss: 0.0012 - mse: 0.0012 - r_square: 0.8821 - val_loss: 0.0028 - val_mse: 0.0028 - val_r_square: 0.7324\n",
      "Epoch 68/200\n",
      "24/24 [==============================] - 0s 7ms/step - loss: 0.0011 - mse: 0.0011 - r_square: 0.6787 - val_loss: 0.0025 - val_mse: 0.0025 - val_r_square: 0.7449\n",
      "Epoch 69/200\n",
      "24/24 [==============================] - 0s 7ms/step - loss: 0.0014 - mse: 0.0014 - r_square: 0.8364 - val_loss: 0.0043 - val_mse: 0.0043 - val_r_square: 0.5660\n",
      "Epoch 70/200\n",
      "24/24 [==============================] - 0s 7ms/step - loss: 0.0018 - mse: 0.0018 - r_square: 0.7979 - val_loss: 0.0025 - val_mse: 0.0025 - val_r_square: 0.7406\n",
      "Epoch 71/200\n",
      "24/24 [==============================] - 0s 7ms/step - loss: 0.0015 - mse: 0.0015 - r_square: 0.8501 - val_loss: 0.0021 - val_mse: 0.0021 - val_r_square: 0.7523\n",
      "Epoch 72/200\n",
      "24/24 [==============================] - 0s 7ms/step - loss: 0.0015 - mse: 0.0015 - r_square: 0.8534 - val_loss: 0.0047 - val_mse: 0.0047 - val_r_square: 0.6775\n",
      "Epoch 73/200\n",
      "24/24 [==============================] - 0s 7ms/step - loss: 0.0020 - mse: 0.0020 - r_square: 0.8153 - val_loss: 0.0028 - val_mse: 0.0028 - val_r_square: 0.7133\n",
      "Epoch 74/200\n",
      "24/24 [==============================] - 0s 8ms/step - loss: 0.0017 - mse: 0.0017 - r_square: 0.8503 - val_loss: 0.0026 - val_mse: 0.0026 - val_r_square: 0.6925\n",
      "Epoch 75/200\n",
      "24/24 [==============================] - 0s 8ms/step - loss: 0.0021 - mse: 0.0021 - r_square: 0.6302 - val_loss: 0.0024 - val_mse: 0.0024 - val_r_square: 0.7606\n",
      "Epoch 76/200\n",
      "24/24 [==============================] - 0s 7ms/step - loss: 0.0011 - mse: 0.0011 - r_square: 0.8876 - val_loss: 0.0024 - val_mse: 0.0024 - val_r_square: 0.7414\n",
      "Epoch 77/200\n",
      "24/24 [==============================] - 0s 7ms/step - loss: 0.0013 - mse: 0.0013 - r_square: 0.8952 - val_loss: 0.0022 - val_mse: 0.0022 - val_r_square: 0.7573\n",
      "Epoch 78/200\n",
      "24/24 [==============================] - 0s 7ms/step - loss: 9.5535e-04 - mse: 9.5535e-04 - r_square: 0.8975 - val_loss: 0.0029 - val_mse: 0.0029 - val_r_square: 0.6996\n",
      "Epoch 79/200\n",
      "24/24 [==============================] - 0s 7ms/step - loss: 0.0015 - mse: 0.0015 - r_square: 0.8776 - val_loss: 0.0034 - val_mse: 0.0034 - val_r_square: 0.7120\n",
      "Epoch 80/200\n",
      "24/24 [==============================] - 0s 7ms/step - loss: 0.0017 - mse: 0.0017 - r_square: 0.7400 - val_loss: 0.0027 - val_mse: 0.0027 - val_r_square: 0.7278\n",
      "Epoch 81/200\n",
      "24/24 [==============================] - 0s 7ms/step - loss: 0.0017 - mse: 0.0017 - r_square: 0.4828 - val_loss: 0.0024 - val_mse: 0.0024 - val_r_square: 0.7579\n",
      "Epoch 82/200\n",
      "24/24 [==============================] - 0s 8ms/step - loss: 0.0011 - mse: 0.0011 - r_square: 0.8674 - val_loss: 0.0025 - val_mse: 0.0025 - val_r_square: 0.7313\n",
      "Epoch 83/200\n",
      "24/24 [==============================] - 0s 8ms/step - loss: 0.0012 - mse: 0.0012 - r_square: 0.8965 - val_loss: 0.0021 - val_mse: 0.0021 - val_r_square: 0.7450\n",
      "Epoch 84/200\n",
      "24/24 [==============================] - 0s 8ms/step - loss: 0.0011 - mse: 0.0011 - r_square: 0.8830 - val_loss: 0.0020 - val_mse: 0.0020 - val_r_square: 0.7831\n",
      "Epoch 85/200\n",
      "24/24 [==============================] - 0s 7ms/step - loss: 9.9473e-04 - mse: 9.9473e-04 - r_square: 0.8993 - val_loss: 0.0028 - val_mse: 0.0028 - val_r_square: 0.6872\n",
      "Epoch 86/200\n",
      "24/24 [==============================] - 0s 7ms/step - loss: 0.0011 - mse: 0.0011 - r_square: 0.8942 - val_loss: 0.0021 - val_mse: 0.0021 - val_r_square: 0.7377\n",
      "Epoch 87/200\n",
      "24/24 [==============================] - 0s 8ms/step - loss: 0.0013 - mse: 0.0013 - r_square: 0.8632 - val_loss: 0.0026 - val_mse: 0.0026 - val_r_square: 0.6838\n",
      "Epoch 88/200\n",
      "24/24 [==============================] - 0s 8ms/step - loss: 0.0018 - mse: 0.0018 - r_square: 0.8428 - val_loss: 0.0026 - val_mse: 0.0026 - val_r_square: 0.6839\n",
      "Epoch 89/200\n",
      "24/24 [==============================] - 0s 7ms/step - loss: 0.0020 - mse: 0.0020 - r_square: 0.8125 - val_loss: 0.0072 - val_mse: 0.0072 - val_r_square: 0.6388\n",
      "Epoch 90/200\n",
      "24/24 [==============================] - 0s 7ms/step - loss: 0.0032 - mse: 0.0032 - r_square: 0.7302 - val_loss: 0.0043 - val_mse: 0.0043 - val_r_square: 0.7065\n",
      "Epoch 91/200\n",
      "24/24 [==============================] - 0s 7ms/step - loss: 0.0018 - mse: 0.0018 - r_square: 0.8456 - val_loss: 0.0035 - val_mse: 0.0035 - val_r_square: 0.6564\n",
      "Epoch 92/200\n",
      "24/24 [==============================] - 0s 7ms/step - loss: 0.0016 - mse: 0.0016 - r_square: 0.7952 - val_loss: 0.0035 - val_mse: 0.0035 - val_r_square: 0.6929\n",
      "Epoch 93/200\n",
      "24/24 [==============================] - 0s 7ms/step - loss: 0.0014 - mse: 0.0014 - r_square: 0.8266 - val_loss: 0.0023 - val_mse: 0.0023 - val_r_square: 0.7236\n",
      "Epoch 94/200\n",
      "24/24 [==============================] - 0s 7ms/step - loss: 0.0011 - mse: 0.0011 - r_square: 0.8899 - val_loss: 0.0035 - val_mse: 0.0035 - val_r_square: 0.7121\n",
      "Epoch 95/200\n"
     ]
    },
    {
     "name": "stdout",
     "output_type": "stream",
     "text": [
      "24/24 [==============================] - 0s 8ms/step - loss: 0.0012 - mse: 0.0012 - r_square: 0.8796 - val_loss: 0.0021 - val_mse: 0.0021 - val_r_square: 0.7477\n",
      "Epoch 96/200\n",
      "24/24 [==============================] - 0s 7ms/step - loss: 0.0010 - mse: 0.0010 - r_square: 0.9017 - val_loss: 0.0023 - val_mse: 0.0023 - val_r_square: 0.7520\n",
      "Epoch 97/200\n",
      "24/24 [==============================] - 0s 7ms/step - loss: 0.0010 - mse: 0.0010 - r_square: 0.8892 - val_loss: 0.0029 - val_mse: 0.0029 - val_r_square: 0.7073\n",
      "Epoch 98/200\n",
      "24/24 [==============================] - 0s 7ms/step - loss: 0.0010 - mse: 0.0010 - r_square: 0.8753 - val_loss: 0.0021 - val_mse: 0.0021 - val_r_square: 0.7681\n"
     ]
    }
   ],
   "source": [
    "model = get_model()\n",
    "\n",
    "# I am using the adam optimizer to optimize gradient descent, mean squared error for loss\n",
    "model.compile(Adam(learning_rate=0.001), loss='mse', metrics=[\"mse\", r_square])\n",
    "\n",
    "# add early stopping callback to prevent from overfitting\n",
    "early_stopping_callback = EarlyStopping(monitor=\"mse\", patience=20, mode='min', restore_best_weights=True)\n",
    "\n",
    "history = model.fit(X_train, y_train, epochs=200, batch_size = 16,\n",
    "                    shuffle=True, validation_split=0.2, callbacks = [early_stopping_callback])"
   ]
  },
  {
   "cell_type": "code",
   "execution_count": 160,
   "id": "12b5f33e",
   "metadata": {},
   "outputs": [
    {
     "data": {
      "image/png": "[encoded data removed]",
      "text/plain": [
       "<Figure size 432x288 with 1 Axes>"
      ]
     },
     "metadata": {
      "needs_background": "light"
     },
     "output_type": "display_data"
    }
   ],
   "source": [
    "# plot training curve for R^2 (beware of scale, starts very low negative)\n",
    "plt.plot(history.history['val_r_square'])\n",
    "plt.plot(history.history['r_square'])\n",
    "plt.title('model R^2')\n",
    "plt.ylabel('R^2')\n",
    "plt.xlabel('epoch')\n",
    "plt.legend(['train', 'test'], loc='upper left')\n",
    "plt.show()"
   ]
  },
  {
   "cell_type": "code",
   "execution_count": 161,
   "id": "15c4ec48",
   "metadata": {},
   "outputs": [
    {
     "data": {
      "image/png": "[encoded data removed]",
      "text/plain": [
       "<Figure size 432x288 with 1 Axes>"
      ]
     },
     "metadata": {
      "needs_background": "light"
     },
     "output_type": "display_data"
    }
   ],
   "source": [
    "# plot training curve for mse\n",
    "plt.plot(history.history['mse'])\n",
    "plt.plot(history.history['val_mse'])\n",
    "plt.title('mse')\n",
    "plt.ylabel('mse')\n",
    "plt.xlabel('epoch')\n",
    "plt.legend(['train', 'test'], loc='upper left')\n",
    "plt.show()"
   ]
  },
  {
   "cell_type": "code",
   "execution_count": 162,
   "id": "22ef973c",
   "metadata": {},
   "outputs": [],
   "source": [
    "y_train_pred = model.predict(X_train)\n",
    "y_test_pred = model.predict(X_test)"
   ]
  },
  {
   "cell_type": "code",
   "execution_count": 163,
   "id": "f6bf7c1f",
   "metadata": {},
   "outputs": [],
   "source": [
    "from sklearn.metrics import mean_squared_error as mse"
   ]
  },
  {
   "cell_type": "code",
   "execution_count": 164,
   "id": "92541c08",
   "metadata": {},
   "outputs": [
    {
     "data": {
      "text/plain": [
       "0.8266477720666786"
      ]
     },
     "execution_count": 164,
     "metadata": {},
     "output_type": "execute_result"
    }
   ],
   "source": [
    "from sklearn.metrics import r2_score\n",
    "r2_score(y_test, y_test_pred)"
   ]
  },
  {
   "cell_type": "code",
   "execution_count": null,
   "id": "218b625c",
   "metadata": {},
   "outputs": [],
   "source": []
  }
 ],
 "metadata": {
  "kernelspec": {
   "display_name": "Python 3 (ipykernel)",
   "language": "python",
   "name": "python3"
  },
  "language_info": {
   "codemirror_mode": {
    "name": "ipython",
    "version": 3
   },
   "file_extension": ".py",
   "mimetype": "text/x-python",
   "name": "python",
   "nbconvert_exporter": "python",
   "pygments_lexer": "ipython3",
   "version": "3.7.13"
  }
 },
 "nbformat": 4,
 "nbformat_minor": 5
}
